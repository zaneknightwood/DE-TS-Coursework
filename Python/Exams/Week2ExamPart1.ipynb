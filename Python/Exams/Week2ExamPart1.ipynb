{
 "cells": [
  {
   "cell_type": "code",
   "execution_count": 60,
   "metadata": {},
   "outputs": [],
   "source": [
    "import datetime\n",
    "\n",
    "class Flight:\n",
    "    flight_number = 'flight#'\n",
    "    departure_city = 'Detroit'\n",
    "    arrival_city = 'Seattle'\n",
    "    departure_time = 0\n",
    "    passenger_list = []\n",
    "    seat_capacity = 150\n",
    "    \n",
    "    def __init__(self, flight_number: str, departure_city: str, arrival_city: str, departure_time: datetime, seat_capacity: int = 150) -> None:\n",
    "        self.flight_number = flight_number\n",
    "        self.departure_city = departure_city\n",
    "        self.arrival_city = arrival_city\n",
    "        self.departure_time = departure_time\n",
    "        self.passenger_list = []\n",
    "        self.seat_capacity = seat_capacity\n",
    "\n",
    "    def add_passenger(self, name):\n",
    "        if self.seat_capacity > len(self.passenger_list):\n",
    "            self.passenger_list.append(name)\n",
    "        else:\n",
    "            print(\"Passenger cannot be added. This flight is full.\")\n",
    "\n",
    "    def remove_passenger(self, name):\n",
    "        if name in self.passenger_list:\n",
    "            print(name, self.passenger_list, len(self.passenger_list))\n",
    "            for i in range(len(self.passenger_list)):\n",
    "                if self.passenger_list[i].lower() == name.lower():\n",
    "                    self.passenger_list.pop(i)\n",
    "                    print(f\"{name} has been removed.\")\n",
    "                    break\n",
    "        else:\n",
    "            print(f\"This passenger ({name}) is not on this flight.\")\n",
    "\n",
    "    def log_flight(self):\n",
    "        log = self.flight_number + \",\" + self.departure_city + \",\" + self.arrival_city + \",\" + str(len(self.passenger_list)) +\"\\n\"\n",
    "        with open(file = \"../Data/flight_log\", mode='at', encoding='utf-8') as f:\n",
    "            f.write(log)\n",
    "\n",
    "    def check_availability(self):\n",
    "        return self.seat_capacity - len(self.passenger_list)\n",
    "    \n",
    "    def __str__(self) -> str:\n",
    "        return f\"Flight {self.flight_number} from {self.departure_city} to {self.arrival_city}\"\n",
    "    \n",
    "    "
   ]
  },
  {
   "cell_type": "code",
   "execution_count": 61,
   "metadata": {},
   "outputs": [
    {
     "name": "stdout",
     "output_type": "stream",
     "text": [
      "['Tim Robins', 'Tim Jones', 'Mory']\n",
      "Tim Jones ['Tim Robins', 'Tim Jones', 'Mory'] 3\n",
      "Tim Jones has been removed.\n",
      "4\n",
      "Flight X123 from Seattle to San Antonio\n"
     ]
    }
   ],
   "source": [
    "flight1 = Flight(\"X123\", \"Seattle\", \"San Antonio\", datetime.datetime.now(), 6)\n",
    "\n",
    "flight1.add_passenger(\"Tim Robins\")\n",
    "flight1.add_passenger(\"Tim Jones\")\n",
    "flight1.add_passenger(\"Mory\")\n",
    "\n",
    "print(flight1.passenger_list)\n",
    "\n",
    "flight1.remove_passenger(\"Tim Jones\")\n",
    "\n",
    "print(flight1.check_availability())\n",
    "print(flight1)\n"
   ]
  },
  {
   "cell_type": "code",
   "execution_count": null,
   "metadata": {},
   "outputs": [],
   "source": []
  },
  {
   "cell_type": "code",
   "execution_count": null,
   "metadata": {},
   "outputs": [],
   "source": []
  }
 ],
 "metadata": {
  "kernelspec": {
   "display_name": "Python 3",
   "language": "python",
   "name": "python3"
  },
  "language_info": {
   "codemirror_mode": {
    "name": "ipython",
    "version": 3
   },
   "file_extension": ".py",
   "mimetype": "text/x-python",
   "name": "python",
   "nbconvert_exporter": "python",
   "pygments_lexer": "ipython3",
   "version": "3.12.4"
  }
 },
 "nbformat": 4,
 "nbformat_minor": 2
}
