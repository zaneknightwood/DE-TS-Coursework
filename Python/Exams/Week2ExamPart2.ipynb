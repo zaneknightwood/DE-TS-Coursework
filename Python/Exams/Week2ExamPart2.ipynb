{
 "cells": [
  {
   "cell_type": "code",
   "execution_count": null,
   "metadata": {},
   "outputs": [],
   "source": [
    "import pandas as pd\n",
    "\n",
    "df = pd.read_csv(\"../Data/songs_normalize.csv\")\n",
    "df.head()\n"
   ]
  },
  {
   "cell_type": "code",
   "execution_count": null,
   "metadata": {},
   "outputs": [],
   "source": [
    "num_rows = len(df.index)\n",
    "\n",
    "print(f\"This dataset contains {num_rows} rows.\")"
   ]
  },
  {
   "cell_type": "code",
   "execution_count": null,
   "metadata": {},
   "outputs": [],
   "source": [
    "year = df.loc[df[\"year\"].idxmin()][\"year\"]\n",
    "\n",
    "print(f'The oldest song is form {year}.')"
   ]
  },
  {
   "cell_type": "code",
   "execution_count": null,
   "metadata": {},
   "outputs": [],
   "source": [
    "pop = df.loc[df[\"popularity\"].idxmax()][\"song\"]\n",
    "\n",
    "print(f'The most popular song is \"{pop}\".')"
   ]
  },
  {
   "cell_type": "code",
   "execution_count": null,
   "metadata": {},
   "outputs": [],
   "source": [
    "df[\"genre\"] = df[\"genre\"].str.split(',')\n",
    "e_df = df.explode(\"genre\")\n",
    "# setup new df of genres\n",
    "genres = e_df[\"genre\"]\n",
    "# strip out spaces\n",
    "genres = [genre.strip(' ') for genre in genres]\n",
    "# convert to dict then back to list to remove duplicates\n",
    "genres = list(dict.fromkeys(genres))\n",
    "\n",
    "print(f\"There are {len(genres)} unique genres.\")"
   ]
  },
  {
   "cell_type": "code",
   "execution_count": null,
   "metadata": {},
   "outputs": [],
   "source": [
    "most_songs = 0\n",
    "\n",
    "for genre in genres:\n",
    "    new_df = e_df[e_df[\"genre\"].str.contains(genre)]\n",
    "    num_rows = len(new_df.index)\n",
    "    if num_rows >= most_songs:\n",
    "        most_songs = num_rows\n",
    "        most_genre = genre\n",
    "print(f\"{most_genre.title()} is the most popular genre, with {most_songs} songs.\")"
   ]
  },
  {
   "cell_type": "code",
   "execution_count": null,
   "metadata": {},
   "outputs": [],
   "source": [
    "artists = df[\"artist\"].to_list()\n",
    "artists = list(dict.fromkeys(artists))\n",
    "most_songs = 0\n",
    "\n",
    "for artist in artists:\n",
    "    artist_df = df[df[\"artist\"].str.contains(artist)]\n",
    "    num_rows = len(artist_df.index)\n",
    "    if num_rows >= most_songs:\n",
    "        most_songs = num_rows\n",
    "        most_artist = artist\n",
    "print(f\"{most_artist} is the most popular artist, with {most_songs} songs.\")"
   ]
  },
  {
   "cell_type": "code",
   "execution_count": null,
   "metadata": {},
   "outputs": [],
   "source": [
    "longest_song_artist = df.loc[df[\"song\"].idxmax()][\"artist\"]\n",
    "\n",
    "print(f\"{longest_song_artist} has the longest song name.\")"
   ]
  },
  {
   "cell_type": "code",
   "execution_count": null,
   "metadata": {},
   "outputs": [],
   "source": [
    "total_duration = df.agg({\"duration_ms\":['sum']})\n",
    "\n",
    "print(total_duration)"
   ]
  },
  {
   "cell_type": "code",
   "execution_count": null,
   "metadata": {},
   "outputs": [],
   "source": [
    "new_df = df[df[\"explicit\"]==True]\n",
    "new_df = new_df[new_df[\"year\"]==2010]\n",
    "new_df.sort_values('popularity', ascending=False, inplace=True)\n",
    "new_df.reset_index(inplace=True)\n",
    "new_df.head()\n",
    "\n",
    "print(f\"The second most popular explicit song of 2010 is {new_df.at[1,\"song\"]}\")"
   ]
  },
  {
   "cell_type": "code",
   "execution_count": null,
   "metadata": {},
   "outputs": [],
   "source": [
    "df.to_parquet('../Data/dataframetoparquet.parquet.gzip', compression='gzip')\n",
    "\n",
    "\n",
    "print(\"The original file size was \")"
   ]
  }
 ],
 "metadata": {
  "kernelspec": {
   "display_name": "Python 3",
   "language": "python",
   "name": "python3"
  },
  "language_info": {
   "codemirror_mode": {
    "name": "ipython",
    "version": 3
   },
   "file_extension": ".py",
   "mimetype": "text/x-python",
   "name": "python",
   "nbconvert_exporter": "python",
   "pygments_lexer": "ipython3",
   "version": "3.12.4"
  }
 },
 "nbformat": 4,
 "nbformat_minor": 2
}
