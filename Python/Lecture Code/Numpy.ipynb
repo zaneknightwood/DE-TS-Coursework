{
 "cells": [
  {
   "cell_type": "code",
   "execution_count": 1,
   "metadata": {},
   "outputs": [],
   "source": [
    "# Numpy\n",
    "# what happens in the background of Pandas\n",
    "# built on C++\n",
    "# We could potentially do everything we are about to do ourselves\n",
    "# would be ineffecient and take a lot of time"
   ]
  },
  {
   "cell_type": "code",
   "execution_count": 2,
   "metadata": {},
   "outputs": [],
   "source": [
    "# Numpy is a lot more efficient than Python\n",
    "# ~50x - 100X faster\n",
    "# Arrays, C++ Arrays = Contiguous memory, optomized searches\n",
    "# Lists in python - can contain multiple types and aren't \"Arrays\"\n",
    "# Numpy Arrays are all one data type, stored in an nd-array\n",
    "\n"
   ]
  },
  {
   "cell_type": "code",
   "execution_count": 5,
   "metadata": {},
   "outputs": [
    {
     "name": "stdout",
     "output_type": "stream",
     "text": [
      "2.0.0\n"
     ]
    }
   ],
   "source": [
    "import numpy as np\n",
    "\n",
    "print(np.__version__)"
   ]
  },
  {
   "cell_type": "code",
   "execution_count": 10,
   "metadata": {},
   "outputs": [
    {
     "data": {
      "text/plain": [
       "array([1, 2, 3, 4, 5])"
      ]
     },
     "execution_count": 10,
     "metadata": {},
     "output_type": "execute_result"
    }
   ],
   "source": [
    "# Creating an array\n",
    "\n",
    "arr = np.array([1,2,3,4,5])\n",
    "\n",
    "arr"
   ]
  },
  {
   "cell_type": "code",
   "execution_count": 18,
   "metadata": {},
   "outputs": [
    {
     "name": "stdout",
     "output_type": "stream",
     "text": [
      "0 1 2 3\n"
     ]
    }
   ],
   "source": [
    "# Dimensions - n-dimensional array\n",
    "# 0-3D arrays\n",
    "\n",
    "# 0D Array AKA Scalar\n",
    "\n",
    "zero_arr = np.array(42)\n",
    "\n",
    "zero_arr\n",
    "\n",
    "# 1D Array AKA Array\n",
    "\n",
    "one_arr = np.array([1,2,3,4,5])\n",
    "\n",
    "one_arr\n",
    "\n",
    "# 2D Array AKA Matrix\n",
    "\n",
    "two_arr = np.array([[1,2,3], [4,5,6]])\n",
    "\n",
    "two_arr\n",
    "\n",
    "# 3D Array AKA Tensor\n",
    "\n",
    "three_arr = np.array([[[1,2,3],[4,5,6]],[[7,8,9],[10,11,12]]])\n",
    "\n",
    "three_arr\n",
    "\n",
    "print(zero_arr.ndim, one_arr.ndim, two_arr.ndim, three_arr.ndim)"
   ]
  },
  {
   "cell_type": "code",
   "execution_count": 23,
   "metadata": {},
   "outputs": [
    {
     "name": "stdout",
     "output_type": "stream",
     "text": [
      "2\n",
      "2\n",
      "6\n"
     ]
    }
   ],
   "source": [
    "# Indexing into our nd arrays\n",
    "\n",
    "# Python indexing - Do not do this\n",
    "print(two_arr[0][1])\n",
    "\n",
    "# Numpy indexing\n",
    "print(two_arr[0, 1])\n",
    "print(three_arr[0, 1, 2])"
   ]
  },
  {
   "cell_type": "code",
   "execution_count": 30,
   "metadata": {},
   "outputs": [
    {
     "name": "stdout",
     "output_type": "stream",
     "text": [
      "|S1\n",
      "|S1\n",
      "float32\n"
     ]
    }
   ],
   "source": [
    "# Numpy arrays are a single data type\n",
    "\n",
    "# Numpy has its own data types\n",
    "\n",
    "# i - integers up to int64\n",
    "# b - boolean\n",
    "# u - unsigned ints\n",
    "# f - float up to float128\n",
    "# c - complex\n",
    "# m - timedelta\n",
    "# M - datetime\n",
    "# O - object\n",
    "# S - string\n",
    "# U - unicode strings\n",
    "# V - void type - fixed chunk of memory that is reserved\n",
    "\n",
    "print(arr.dtype)\n",
    "\n",
    "arr = np.array([1,2,3,4,5], dtype= 'S')\n",
    "\n",
    "print(arr.dtype)\n",
    "\n",
    "new_arr = arr.astype('f')\n",
    "print(new_arr.dtype)"
   ]
  },
  {
   "cell_type": "code",
   "execution_count": 35,
   "metadata": {},
   "outputs": [
    {
     "name": "stdout",
     "output_type": "stream",
     "text": [
      "(5,)\n",
      "(2, 3)\n",
      "(2, 2, 3)\n"
     ]
    }
   ],
   "source": [
    "# Checking our matrixes shape\n",
    "\n",
    "print(arr.shape)\n",
    "print(two_arr.shape)\n",
    "print(three_arr.shape)\n"
   ]
  },
  {
   "cell_type": "code",
   "execution_count": 40,
   "metadata": {},
   "outputs": [
    {
     "name": "stdout",
     "output_type": "stream",
     "text": [
      "[ 1  2  3  4  5  6  7  8  9 10 11 12]\n",
      "[[ 1  2  3]\n",
      " [ 4  5  6]\n",
      " [ 7  8  9]\n",
      " [10 11 12]]\n"
     ]
    }
   ],
   "source": [
    "# Reshape arrays\n",
    "\n",
    "arr = np.array([1,2,3,4,5,6,7,8,9,10,11,12])\n",
    "print(arr)\n",
    "new_arr = arr.reshape(4,3)\n",
    "print(new_arr)\n"
   ]
  },
  {
   "cell_type": "code",
   "execution_count": 43,
   "metadata": {},
   "outputs": [
    {
     "name": "stdout",
     "output_type": "stream",
     "text": [
      "[[ 1  2  3]\n",
      " [ 4  5  6]\n",
      " [ 7  8  9]\n",
      " [10 11 12]]\n"
     ]
    }
   ],
   "source": [
    "# If we don't know full dimensions, we can sub in -1\n",
    "\n",
    "new_arr = arr.reshape(-1,3)\n",
    "print(new_arr)"
   ]
  },
  {
   "cell_type": "code",
   "execution_count": 46,
   "metadata": {},
   "outputs": [
    {
     "name": "stdout",
     "output_type": "stream",
     "text": [
      "[ 1  2  3  4  5  6  7  8  9 10 11 12]\n"
     ]
    }
   ],
   "source": [
    "# To flatten arrays\n",
    "\n",
    "arr = new_arr.reshape(-1)\n",
    "print(arr)"
   ]
  },
  {
   "cell_type": "code",
   "execution_count": 51,
   "metadata": {},
   "outputs": [
    {
     "name": "stdout",
     "output_type": "stream",
     "text": [
      "1\n",
      "2\n",
      "3\n",
      "4\n",
      "5\n",
      "6\n",
      "7\n",
      "8\n",
      "9\n",
      "10\n",
      "11\n",
      "12\n"
     ]
    }
   ],
   "source": [
    "# Iterating through arrays\n",
    "\n",
    "for x in np.nditer(three_arr):\n",
    "    print(x)"
   ]
  },
  {
   "cell_type": "code",
   "execution_count": 54,
   "metadata": {},
   "outputs": [
    {
     "name": "stdout",
     "output_type": "stream",
     "text": [
      "[[1 2]\n",
      " [3 4]\n",
      " [5 6]\n",
      " [7 8]]\n"
     ]
    }
   ],
   "source": [
    "# Joining arrays\n",
    "# Join based on axis\n",
    "# axis = 0 is based on rows, axis = 1 is based on columns\n",
    "\n",
    "arr1 = np.array([[1,2],[3,4]])\n",
    "arr2 = np.array([[5,6],[7,8]])\n",
    "arr = np.concatenate((arr1, arr2), axis= 0)\n",
    "print(arr)"
   ]
  },
  {
   "cell_type": "code",
   "execution_count": 57,
   "metadata": {},
   "outputs": [
    {
     "name": "stdout",
     "output_type": "stream",
     "text": [
      "[[1 2 5 6]\n",
      " [3 4 7 8]]\n"
     ]
    }
   ],
   "source": [
    "# Join based on columns\n",
    "\n",
    "arr = np.concatenate((arr1,arr2), axis=1)\n",
    "print(arr)"
   ]
  },
  {
   "cell_type": "code",
   "execution_count": 62,
   "metadata": {},
   "outputs": [
    {
     "name": "stdout",
     "output_type": "stream",
     "text": [
      "[[1 2 3]\n",
      " [4 5 6]]\n",
      "[1 2 3 4 5 6]\n",
      "[[[1 4]\n",
      "  [2 5]\n",
      "  [3 6]]]\n"
     ]
    }
   ],
   "source": [
    "# Stacking\n",
    "# stack(), hstack(), dstack()\n",
    "\n",
    "\n",
    "arr1 = np.array([1,2,3])\n",
    "arr2 = np.array([4,5,6])\n",
    "arr = np.stack((arr1,arr2))\n",
    "print(arr)\n",
    "\n",
    "arr = np.hstack((arr1, arr2))\n",
    "print(arr)\n",
    "\n",
    "arr = np.dstack((arr1,arr2))\n",
    "print(arr)"
   ]
  },
  {
   "cell_type": "code",
   "execution_count": 65,
   "metadata": {},
   "outputs": [
    {
     "name": "stdout",
     "output_type": "stream",
     "text": [
      "[array([1, 2]), array([3, 4]), array([5])]\n"
     ]
    }
   ],
   "source": [
    "# Split array into n parts\n",
    "\n",
    "arr = np.array([1, 2, 3, 4, 5])\n",
    "new_arr = np.array_split(arr, 3)\n",
    "print(new_arr)"
   ]
  },
  {
   "cell_type": "code",
   "execution_count": 69,
   "metadata": {},
   "outputs": [
    {
     "name": "stdout",
     "output_type": "stream",
     "text": [
      "(array([3, 6, 7]),)\n"
     ]
    }
   ],
   "source": [
    "# Searching array - where() method\n",
    "\n",
    "arr =  np.array([1,2,3,4,5,6,4,4])\n",
    "x = np.where(arr == 4)\n",
    "print(x)"
   ]
  },
  {
   "cell_type": "code",
   "execution_count": 72,
   "metadata": {},
   "outputs": [
    {
     "name": "stdout",
     "output_type": "stream",
     "text": [
      "5\n"
     ]
    }
   ],
   "source": [
    "# searchsorted() - performs binary search\n",
    "\n",
    "arr =  np.array([1,2,3,4,5,6,9,10])\n",
    "x = np.searchsorted(arr, 6)\n",
    "print(x)"
   ]
  },
  {
   "cell_type": "code",
   "execution_count": 74,
   "metadata": {},
   "outputs": [
    {
     "name": "stdout",
     "output_type": "stream",
     "text": [
      "[[1 2 5]\n",
      " [3 6 9]]\n"
     ]
    }
   ],
   "source": [
    "# Sorting arrays\n",
    "# Can still use python sort()\n",
    "# np.sort() -more efficient\n",
    "\n",
    "arr = np.array([[5,2,1],[6,3,9]])\n",
    "print(np.sort(arr))"
   ]
  },
  {
   "cell_type": "code",
   "execution_count": 78,
   "metadata": {},
   "outputs": [
    {
     "name": "stdout",
     "output_type": "stream",
     "text": [
      "[ 41 430]\n"
     ]
    }
   ],
   "source": [
    "# Filtering arrays\n",
    "# Filter based off condition or boolean array\n",
    "\n",
    "arr = np.array([40,41,42,430])\n",
    "\n",
    "x = [False, True, False, True]\n",
    "\n",
    "filtered_arr = arr[x]\n",
    "print(filtered_arr)"
   ]
  },
  {
   "cell_type": "code",
   "execution_count": 84,
   "metadata": {},
   "outputs": [
    {
     "name": "stdout",
     "output_type": "stream",
     "text": [
      "[15  2  3  4]\n",
      "[15  2  3  4]\n",
      "[1 2 3 4]\n",
      "[15  2  3  4]\n",
      "None\n"
     ]
    }
   ],
   "source": [
    "# Copies vs Views\n",
    "# When we work with Big Data we need to carefully consider what we copy\n",
    "# 4 GB file -> 8 GB\n",
    "# 11 GB file -> 22 GB\n",
    "# Use a view\n",
    "# view is a reference, doesn't copy array just references it\n",
    "\n",
    "arr = np.array([1,2,3,4])\n",
    "view = arr.view()\n",
    "copy = arr.copy()\n",
    "arr[0] = 15\n",
    "\n",
    "print(arr)\n",
    "print(view)\n",
    "print(copy)\n",
    "\n",
    "# .base shows what an objcect is based off of (where the reference is pointing)\n",
    "print(view.base)\n",
    "print(copy.base)"
   ]
  },
  {
   "cell_type": "code",
   "execution_count": 85,
   "metadata": {},
   "outputs": [],
   "source": [
    "import time"
   ]
  },
  {
   "cell_type": "code",
   "execution_count": 91,
   "metadata": {},
   "outputs": [
    {
     "name": "stdout",
     "output_type": "stream",
     "text": [
      "0.4637181758880615\n"
     ]
    }
   ],
   "source": [
    "# Use Python List\n",
    "start = time.time()\n",
    "list = [i for i in range(1_000_000)]\n",
    "squared = [x**2 for x in list]\n",
    "stop = time.time()\n",
    "\n",
    "print(stop-start)"
   ]
  },
  {
   "cell_type": "code",
   "execution_count": 99,
   "metadata": {},
   "outputs": [
    {
     "name": "stdout",
     "output_type": "stream",
     "text": [
      "0.00997304916381836\n"
     ]
    }
   ],
   "source": [
    "# Use numpy array\n",
    "start = time.time()\n",
    "arr = np.arange(1_000_000)\n",
    "squared = arr**2\n",
    "stop = time.time()\n",
    "\n",
    "print(stop-start)"
   ]
  },
  {
   "cell_type": "code",
   "execution_count": null,
   "metadata": {},
   "outputs": [],
   "source": []
  }
 ],
 "metadata": {
  "kernelspec": {
   "display_name": ".venv",
   "language": "python",
   "name": "python3"
  },
  "language_info": {
   "codemirror_mode": {
    "name": "ipython",
    "version": 3
   },
   "file_extension": ".py",
   "mimetype": "text/x-python",
   "name": "python",
   "nbconvert_exporter": "python",
   "pygments_lexer": "ipython3",
   "version": "3.12.4"
  }
 },
 "nbformat": 4,
 "nbformat_minor": 2
}
