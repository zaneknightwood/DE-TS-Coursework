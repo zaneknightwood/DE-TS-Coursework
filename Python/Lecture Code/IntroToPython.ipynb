{
 "cells": [
  {
   "cell_type": "markdown",
   "metadata": {},
   "source": [
    "#   Intro to Python\n",
    "##  Data Types and Basic Functions"
   ]
  },
  {
   "cell_type": "code",
   "execution_count": 4,
   "metadata": {},
   "outputs": [
    {
     "name": "stdout",
     "output_type": "stream",
     "text": [
      "This is a \"String\"\n",
      "I'm in a variable now\n",
      "On multiple lines\n",
      "Yay\n"
     ]
    }
   ],
   "source": [
    "# Int, String, Float, Boolean, Char, Complex\n",
    "\n",
    "\n",
    "string_var = \"\"\"I'm in a variable now\n",
    "On multiple lines\n",
    "Yay\"\"\"\n",
    "print('This is a \"String\"')\n",
    "print(string_var)"
   ]
  },
  {
   "cell_type": "code",
   "execution_count": 6,
   "metadata": {},
   "outputs": [
    {
     "name": "stdout",
     "output_type": "stream",
     "text": [
      "8.521\n"
     ]
    }
   ],
   "source": [
    "int_var = 4\n",
    "\n",
    "float_var = 4.521\n",
    "\n",
    "complex_var = 3 + 3j\n",
    "\n",
    "print(int_var + float_var)"
   ]
  },
  {
   "cell_type": "code",
   "execution_count": 8,
   "metadata": {},
   "outputs": [
    {
     "name": "stdout",
     "output_type": "stream",
     "text": [
      "30\n",
      "10\n",
      "200\n",
      "2.0\n",
      "10240000000000\n",
      "0\n"
     ]
    }
   ],
   "source": [
    "x = 20\n",
    "y = 10\n",
    "\n",
    "print(x+y)\n",
    "print(x-y)\n",
    "print(x*y)\n",
    "print(x/y)\n",
    "print(x**y)\n",
    "print(x%y)"
   ]
  },
  {
   "cell_type": "code",
   "execution_count": 10,
   "metadata": {},
   "outputs": [
    {
     "name": "stdout",
     "output_type": "stream",
     "text": [
      "odd\n"
     ]
    }
   ],
   "source": [
    "# Mod can show us even and odd\n",
    "\n",
    "x=17\n",
    "\n",
    "if(x%2 == 0):\n",
    "    print(\"even\")\n",
    "else:\n",
    "    print(\"odd\")"
   ]
  },
  {
   "cell_type": "code",
   "execution_count": 11,
   "metadata": {},
   "outputs": [],
   "source": [
    "# Collection Types\n",
    "# List, Dictionary, Set, Trees, Tuple\n",
    "\n"
   ]
  },
  {
   "cell_type": "code",
   "execution_count": 13,
   "metadata": {},
   "outputs": [
    {
     "name": "stdout",
     "output_type": "stream",
     "text": [
      "no\n"
     ]
    }
   ],
   "source": [
    "# Boolean\n",
    "# True or False\n",
    "\n",
    "truth_var = True\n",
    "false_var = False\n",
    "not_exist = None\n",
    "\n",
    "if(not_exist):\n",
    "    print(\"yes\")\n",
    "\n",
    "not_exist = \"Now it's a string\"\n",
    "\n",
    "if(not_exist):\n",
    "    print(\"no\")"
   ]
  },
  {
   "cell_type": "code",
   "execution_count": 19,
   "metadata": {},
   "outputs": [
    {
     "name": "stdout",
     "output_type": "stream",
     "text": [
      "2\n",
      "<class 'str'>\n",
      "5026.5599999999995\n",
      "1.0\n"
     ]
    }
   ],
   "source": [
    "# Casting Variables\n",
    "\n",
    "x = int(2.8)\n",
    "\n",
    "y = str(152.32 * 33)\n",
    "\n",
    "z = float(1)\n",
    "\n",
    "print(x)\n",
    "print(type(y))\n",
    "print(y)\n",
    "print(z)"
   ]
  },
  {
   "cell_type": "code",
   "execution_count": 20,
   "metadata": {},
   "outputs": [
    {
     "name": "stdout",
     "output_type": "stream",
     "text": [
      "done\n"
     ]
    }
   ],
   "source": [
    "# Classes\n",
    "\n",
    "class Animal:\n",
    "    def __init__(self, age, name):\n",
    "        age = 0\n",
    "        name = \"Default\"\n",
    "\n",
    "# simulates a 'main' function\n",
    "if __name__ == \"__main__\":\n",
    "    print(\"done\")\n"
   ]
  }
 ],
 "metadata": {
  "kernelspec": {
   "display_name": "Python 3",
   "language": "python",
   "name": "python3"
  },
  "language_info": {
   "codemirror_mode": {
    "name": "ipython",
    "version": 3
   },
   "file_extension": ".py",
   "mimetype": "text/x-python",
   "name": "python",
   "nbconvert_exporter": "python",
   "pygments_lexer": "ipython3",
   "version": "3.12.4"
  }
 },
 "nbformat": 4,
 "nbformat_minor": 2
}
