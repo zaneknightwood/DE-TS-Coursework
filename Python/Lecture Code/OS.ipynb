{
 "cells": [
  {
   "cell_type": "code",
   "execution_count": 1,
   "metadata": {},
   "outputs": [
    {
     "name": "stdout",
     "output_type": "stream",
     "text": [
      "c:\\Users\\zyphl\\Desktop\\Coding\\GitHub\\DE-TS-Coursework\\Python\\Lecture Code\n"
     ]
    }
   ],
   "source": [
    "# We can interact directly with our Operating System through Python\n",
    "\n",
    "import os\n",
    "\n",
    "cwd = os.getcwd()\n",
    "print(cwd)\n"
   ]
  },
  {
   "cell_type": "code",
   "execution_count": 4,
   "metadata": {},
   "outputs": [
    {
     "name": "stdout",
     "output_type": "stream",
     "text": [
      "c:\\Users\\zyphl\\Desktop\\Coding\\GitHub\\DE-TS-Coursework\n"
     ]
    }
   ],
   "source": [
    "new_directory = \"c:\\\\Users\\\\zyphl\\\\Desktop\\\\Coding\\\\GitHub\\\\DE-TS-Coursework\"\n",
    "os.chdir(new_directory)\n",
    "\n",
    "cwd = os.getcwd()\n",
    "print(cwd)"
   ]
  },
  {
   "cell_type": "code",
   "execution_count": null,
   "metadata": {},
   "outputs": [],
   "source": [
    "# We can create new directories\n",
    "\n",
    "base_path = \"c:\\\\Users\\\\zyphl\\\\Desktop\\\\Coding\\\\GitHub\\\\DE-TS-Coursework\"\n",
    "new_dir = \"/demo\"\n",
    "\n",
    "new_new_dir = \"c:\\\\Users\\\\zyphl\\\\Desktop\\\\Coding\\\\GitHub\\\\DE-TS-Coursework/demo2\"\n",
    "\n",
    "os.mkdir(new_new_dir)"
   ]
  },
  {
   "cell_type": "code",
   "execution_count": null,
   "metadata": {},
   "outputs": [],
   "source": [
    "# Cannot nest directories with mkdir\n",
    "\n",
    "base_path = \"c:\\\\Users\\\\zyphl\\\\Desktop\\\\Coding\\\\GitHub\\\\DE-TS-Coursework\"\n",
    "new_dir = \"/demo3/test/new_folder\"\n",
    "\n",
    "# Checks to see if the path is vaild\n",
    "example_dir = os.path.join(base_path, new_dir)\n",
    "\n",
    "os.mkdir(base_path + new_dir)"
   ]
  },
  {
   "cell_type": "code",
   "execution_count": null,
   "metadata": {},
   "outputs": [],
   "source": [
    "# We can nest directories if we use makedirs\n",
    "\n",
    "os.makedirs(base_path + new_dir)"
   ]
  },
  {
   "cell_type": "code",
   "execution_count": 13,
   "metadata": {},
   "outputs": [
    {
     "name": "stdout",
     "output_type": "stream",
     "text": [
      "['$Recycle.Bin', '$WinREAgent', '.GamingRoot', 'Config.Msi', 'Documents and Settings', 'DumpStack.log.tmp', 'hiberfil.sys', 'home', 'Intel', 'OEM', 'OneDriveTemp', 'pagefile.sys', 'PerfLogs', 'Program Files', 'Program Files (x86)', 'ProgramData', 'Recovery', 'swapfile.sys', 'System Volume Information', 'Users', 'Windows', 'XboxGames']\n"
     ]
    }
   ],
   "source": [
    "# If we need all of our directories in a list\n",
    "root = '/' # cd / (Takes you all the way out to the root directory)\n",
    "dirs = os.listdir(root) # os.listdir(os.getcwd()) gets directories for working directory\n",
    "\n",
    "print(dirs)"
   ]
  },
  {
   "cell_type": "code",
   "execution_count": null,
   "metadata": {},
   "outputs": [],
   "source": [
    "# Directories can only be removed if empty\n",
    "\n",
    "new_dir = \"/demo3/test/new_folder\"\n",
    "\n",
    "os.rmdir(base_path + new_dir)"
   ]
  },
  {
   "cell_type": "code",
   "execution_count": null,
   "metadata": {},
   "outputs": [],
   "source": [
    "# Remove files from folders\n",
    "\n",
    "rm_file = \"/Python/Data/Cat_meme_2.jpg\"\n",
    "file_path = base_path + rm_file\n",
    "os.remove(file_path)"
   ]
  },
  {
   "cell_type": "code",
   "execution_count": 27,
   "metadata": {},
   "outputs": [
    {
     "name": "stdout",
     "output_type": "stream",
     "text": [
      "c:\\Users\\zyphl\\Desktop\\Coding\\GitHub\\DE-TS-Coursework\n",
      "['.git', 'demo3', 'Python']\n",
      "[]\n",
      "c:\\Users\\zyphl\\Desktop\\Coding\\GitHub\\DE-TS-Coursework\\.git\n",
      "['hooks', 'info', 'logs', 'objects', 'refs']\n",
      "['COMMIT_EDITMSG', 'config', 'description', 'FETCH_HEAD', 'HEAD', 'index']\n",
      "c:\\Users\\zyphl\\Desktop\\Coding\\GitHub\\DE-TS-Coursework\\.git\\hooks\n",
      "[]\n",
      "['applypatch-msg.sample', 'commit-msg.sample', 'fsmonitor-watchman.sample', 'post-update.sample', 'pre-applypatch.sample', 'pre-commit.sample', 'pre-merge-commit.sample', 'pre-push.sample', 'pre-rebase.sample', 'pre-receive.sample', 'prepare-commit-msg.sample', 'push-to-checkout.sample', 'update.sample']\n",
      "c:\\Users\\zyphl\\Desktop\\Coding\\GitHub\\DE-TS-Coursework\\.git\\info\n",
      "[]\n",
      "['exclude']\n",
      "c:\\Users\\zyphl\\Desktop\\Coding\\GitHub\\DE-TS-Coursework\\.git\\logs\n",
      "['refs']\n",
      "['HEAD']\n",
      "c:\\Users\\zyphl\\Desktop\\Coding\\GitHub\\DE-TS-Coursework\\.git\\logs\\refs\n",
      "['heads', 'remotes']\n",
      "[]\n",
      "c:\\Users\\zyphl\\Desktop\\Coding\\GitHub\\DE-TS-Coursework\\.git\\logs\\refs\\heads\n",
      "[]\n",
      "['main']\n",
      "c:\\Users\\zyphl\\Desktop\\Coding\\GitHub\\DE-TS-Coursework\\.git\\logs\\refs\\remotes\n",
      "['origin']\n",
      "[]\n",
      "c:\\Users\\zyphl\\Desktop\\Coding\\GitHub\\DE-TS-Coursework\\.git\\logs\\refs\\remotes\\origin\n",
      "[]\n",
      "['HEAD', 'main']\n",
      "c:\\Users\\zyphl\\Desktop\\Coding\\GitHub\\DE-TS-Coursework\\.git\\objects\n",
      "['03', '26', '31', '35', '48', '4a', '4f', '59', '6c', '6d', 'a2', 'b5', 'b9', 'be', 'c3', 'd2', 'e5', 'e6', 'eb', 'info', 'pack']\n",
      "[]\n",
      "c:\\Users\\zyphl\\Desktop\\Coding\\GitHub\\DE-TS-Coursework\\.git\\objects\\03\n",
      "[]\n",
      "['89255c22a4168c555f67f24d02ca509140d5b8', 'bcb393500d6180c3889666a0d3dfef85497f1f']\n",
      "c:\\Users\\zyphl\\Desktop\\Coding\\GitHub\\DE-TS-Coursework\\.git\\objects\\26\n",
      "[]\n",
      "['57c71801bf2f2ab78b68f220e594d52db61305']\n",
      "c:\\Users\\zyphl\\Desktop\\Coding\\GitHub\\DE-TS-Coursework\\.git\\objects\\31\n",
      "[]\n",
      "['42547004fc50d242e3398e3cfcf411fd780f26']\n",
      "c:\\Users\\zyphl\\Desktop\\Coding\\GitHub\\DE-TS-Coursework\\.git\\objects\\35\n",
      "[]\n",
      "['3dbb3da326ca61756bf7e587daf30adf6d2f2f']\n",
      "c:\\Users\\zyphl\\Desktop\\Coding\\GitHub\\DE-TS-Coursework\\.git\\objects\\48\n",
      "[]\n",
      "['374c147d4251dd4c131837bb40dbb78aac210d']\n",
      "c:\\Users\\zyphl\\Desktop\\Coding\\GitHub\\DE-TS-Coursework\\.git\\objects\\4a\n",
      "[]\n",
      "['670db7c7b108413f83770c495ce60bff522883', '9744257cac80369e23fc2c5e5bc0da6c60638e']\n",
      "c:\\Users\\zyphl\\Desktop\\Coding\\GitHub\\DE-TS-Coursework\\.git\\objects\\4f\n",
      "[]\n",
      "['e214875a3fc449761149115d01cf5d3f767f65']\n",
      "c:\\Users\\zyphl\\Desktop\\Coding\\GitHub\\DE-TS-Coursework\\.git\\objects\\59\n",
      "[]\n",
      "['36774f61a1a2ba8b2041ad9e38f58c735d542f']\n",
      "c:\\Users\\zyphl\\Desktop\\Coding\\GitHub\\DE-TS-Coursework\\.git\\objects\\6c\n",
      "[]\n",
      "['e19278e3b714ec75c0fd39090ea8624335e6ba']\n",
      "c:\\Users\\zyphl\\Desktop\\Coding\\GitHub\\DE-TS-Coursework\\.git\\objects\\6d\n",
      "[]\n",
      "['c637593052d23df00089dfba33dac750724515']\n",
      "c:\\Users\\zyphl\\Desktop\\Coding\\GitHub\\DE-TS-Coursework\\.git\\objects\\a2\n",
      "[]\n",
      "['5dafb51da9201337f4e7a24f02b1b57ca164fa']\n",
      "c:\\Users\\zyphl\\Desktop\\Coding\\GitHub\\DE-TS-Coursework\\.git\\objects\\b5\n",
      "[]\n",
      "['0b871407da8a47de0ad5227fab534e7fbc5d98']\n",
      "c:\\Users\\zyphl\\Desktop\\Coding\\GitHub\\DE-TS-Coursework\\.git\\objects\\b9\n",
      "[]\n",
      "['e66191507f48637bc91e7f16cc55d42391ce4d']\n",
      "c:\\Users\\zyphl\\Desktop\\Coding\\GitHub\\DE-TS-Coursework\\.git\\objects\\be\n",
      "[]\n",
      "['c967e9fcbee5d193d1b81be1186fc71312831e']\n",
      "c:\\Users\\zyphl\\Desktop\\Coding\\GitHub\\DE-TS-Coursework\\.git\\objects\\c3\n",
      "[]\n",
      "['23338b2c221dde4543e88149d4db6dd3dfcc59']\n",
      "c:\\Users\\zyphl\\Desktop\\Coding\\GitHub\\DE-TS-Coursework\\.git\\objects\\d2\n",
      "[]\n",
      "['ecad8ba37699a7c7940ab8100dcfd8bd2d55dc']\n",
      "c:\\Users\\zyphl\\Desktop\\Coding\\GitHub\\DE-TS-Coursework\\.git\\objects\\e5\n",
      "[]\n",
      "['f4a0ea57511efc40849572b2aa7b507f6204b5']\n",
      "c:\\Users\\zyphl\\Desktop\\Coding\\GitHub\\DE-TS-Coursework\\.git\\objects\\e6\n",
      "[]\n",
      "['9de29bb2d1d6434b8b29ae775ad8c2e48c5391']\n",
      "c:\\Users\\zyphl\\Desktop\\Coding\\GitHub\\DE-TS-Coursework\\.git\\objects\\eb\n",
      "[]\n",
      "['bc5cd52e9bb0c71e75626c1abac9eb7e8e6bc5']\n",
      "c:\\Users\\zyphl\\Desktop\\Coding\\GitHub\\DE-TS-Coursework\\.git\\objects\\info\n",
      "[]\n",
      "[]\n",
      "c:\\Users\\zyphl\\Desktop\\Coding\\GitHub\\DE-TS-Coursework\\.git\\objects\\pack\n",
      "[]\n",
      "[]\n",
      "c:\\Users\\zyphl\\Desktop\\Coding\\GitHub\\DE-TS-Coursework\\.git\\refs\n",
      "['heads', 'remotes', 'tags']\n",
      "[]\n",
      "c:\\Users\\zyphl\\Desktop\\Coding\\GitHub\\DE-TS-Coursework\\.git\\refs\\heads\n",
      "[]\n",
      "['main']\n",
      "c:\\Users\\zyphl\\Desktop\\Coding\\GitHub\\DE-TS-Coursework\\.git\\refs\\remotes\n",
      "['origin']\n",
      "[]\n",
      "c:\\Users\\zyphl\\Desktop\\Coding\\GitHub\\DE-TS-Coursework\\.git\\refs\\remotes\\origin\n",
      "[]\n",
      "['HEAD', 'main']\n",
      "c:\\Users\\zyphl\\Desktop\\Coding\\GitHub\\DE-TS-Coursework\\.git\\refs\\tags\n",
      "[]\n",
      "[]\n",
      "c:\\Users\\zyphl\\Desktop\\Coding\\GitHub\\DE-TS-Coursework\\demo3\n",
      "['test']\n",
      "[]\n",
      "c:\\Users\\zyphl\\Desktop\\Coding\\GitHub\\DE-TS-Coursework\\demo3\\test\n",
      "[]\n",
      "[]\n",
      "c:\\Users\\zyphl\\Desktop\\Coding\\GitHub\\DE-TS-Coursework\\Python\n",
      "['Assignments', 'Data', 'Lecture Code']\n",
      "[]\n",
      "c:\\Users\\zyphl\\Desktop\\Coding\\GitHub\\DE-TS-Coursework\\Python\\Assignments\n",
      "[]\n",
      "['DailyAssignments617.ipynb']\n",
      "c:\\Users\\zyphl\\Desktop\\Coding\\GitHub\\DE-TS-Coursework\\Python\\Data\n",
      "[]\n",
      "['Persian_Cat_Room_Guardian_meme_banner.jpg', 'Pride_and_Prejudice.txt']\n",
      "c:\\Users\\zyphl\\Desktop\\Coding\\GitHub\\DE-TS-Coursework\\Python\\Lecture Code\n",
      "[]\n",
      "['Collections.ipynb', 'Datetime.ipynb', 'ErrorHandling.ipynb', 'FileOperations.ipynb', 'IntroToPython.ipynb', 'OS.ipynb', 'StringOps.ipynb']\n"
     ]
    }
   ],
   "source": [
    "# We can read multiple files and directories\n",
    "\n",
    "for root, dirs, files in os.walk(os.getcwd()):\n",
    "    print(root)\n",
    "    print(dirs)\n",
    "    print(files)\n",
    "    "
   ]
  }
 ],
 "metadata": {
  "kernelspec": {
   "display_name": "Python 3",
   "language": "python",
   "name": "python3"
  },
  "language_info": {
   "codemirror_mode": {
    "name": "ipython",
    "version": 3
   },
   "file_extension": ".py",
   "mimetype": "text/x-python",
   "name": "python",
   "nbconvert_exporter": "python",
   "pygments_lexer": "ipython3",
   "version": "3.12.4"
  }
 },
 "nbformat": 4,
 "nbformat_minor": 2
}
