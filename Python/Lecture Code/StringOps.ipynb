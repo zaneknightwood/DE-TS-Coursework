{
 "cells": [
  {
   "cell_type": "code",
   "execution_count": 18,
   "metadata": {},
   "outputs": [],
   "source": [
    "string = \"  Hello World!    \""
   ]
  },
  {
   "cell_type": "code",
   "execution_count": 8,
   "metadata": {},
   "outputs": [
    {
     "name": "stdout",
     "output_type": "stream",
     "text": [
      "H\n"
     ]
    }
   ],
   "source": [
    "# char\n",
    "\n",
    "print(string[0])"
   ]
  },
  {
   "cell_type": "code",
   "execution_count": 14,
   "metadata": {},
   "outputs": [
    {
     "name": "stdout",
     "output_type": "stream",
     "text": [
      "L\n",
      "L\n",
      "L\n"
     ]
    }
   ],
   "source": [
    "for char in string:\n",
    "    if(char == 'l'):\n",
    "        print(char.upper())"
   ]
  },
  {
   "cell_type": "code",
   "execution_count": 16,
   "metadata": {},
   "outputs": [
    {
     "name": "stdout",
     "output_type": "stream",
     "text": [
      "HELLO WORLD!\n",
      "hello world!\n",
      "Hello World!\n"
     ]
    }
   ],
   "source": [
    "print(string.upper())\n",
    "print(string.lower())\n",
    "print(string.title())\n"
   ]
  },
  {
   "cell_type": "code",
   "execution_count": 17,
   "metadata": {},
   "outputs": [
    {
     "name": "stdout",
     "output_type": "stream",
     "text": [
      "False\n"
     ]
    }
   ],
   "source": [
    "print('A' == 'a')"
   ]
  },
  {
   "cell_type": "code",
   "execution_count": 21,
   "metadata": {},
   "outputs": [
    {
     "name": "stdout",
     "output_type": "stream",
     "text": [
      "  Hello World!    \n",
      "Hello World!\n",
      ",,,grHello,,, World,,,!\n",
      "Hello,,, World,,,!\n",
      "['Hello', 'World!']\n"
     ]
    }
   ],
   "source": [
    "print(string)\n",
    "print(string.strip())\n",
    "\n",
    "diff_string = \",,,grHello,,, World,,,!\"\n",
    "\n",
    "print(diff_string)\n",
    "print(diff_string.strip(\",gr\"))\n",
    "\n",
    "# Splitting a string\n",
    "\n",
    "print(string.split())\n"
   ]
  },
  {
   "cell_type": "code",
   "execution_count": 23,
   "metadata": {},
   "outputs": [
    {
     "name": "stdout",
     "output_type": "stream",
     "text": [
      "This string\n",
      "8888888888\n"
     ]
    }
   ],
   "source": [
    "# Math on a string\n",
    "\n",
    "str1 = \"This\"\n",
    "str2 = \"string\"\n",
    "x = \"8\"\n",
    "y = 10\n",
    "\n",
    "\n",
    "print(str1 + ' ' + str2)\n",
    "print(x * y)"
   ]
  },
  {
   "cell_type": "code",
   "execution_count": 26,
   "metadata": {},
   "outputs": [
    {
     "name": "stdout",
     "output_type": "stream",
     "text": [
      "This is \n",
      "a new line\n",
      "There's a new game\n",
      "♞\n"
     ]
    }
   ],
   "source": [
    "# Escape Character\n",
    "# \\\n",
    "\n",
    "print(\"This is \\na new line\")\n",
    "print('There\\'s a new game')\n",
    "\n",
    "# Special String Encoding\n",
    "# We use UTF-8 for special characters and symbols\n",
    "print('\\u265E')"
   ]
  },
  {
   "cell_type": "code",
   "execution_count": 31,
   "metadata": {},
   "outputs": [
    {
     "name": "stdout",
     "output_type": "stream",
     "text": [
      "2.165185498 people will graduate with 7.2221 grade\n",
      "2.17 people will graduate with 7.2 Grade\n"
     ]
    }
   ],
   "source": [
    "# Strinf Formatting\n",
    "\n",
    "x = 2.165185498\n",
    "y = 7.2221\n",
    "string2 = \"{0} people will graduate with {1} grade\"\n",
    "print(string2.format(x,y))\n",
    "\n",
    "# :.#f formats with rounding!\n",
    "print(f\"{x:.2f} people will graduate with {y:.1f} Grade\")"
   ]
  },
  {
   "cell_type": "code",
   "execution_count": 33,
   "metadata": {},
   "outputs": [
    {
     "name": "stdout",
     "output_type": "stream",
     "text": [
      "True\n",
      "This is getting something new\n"
     ]
    }
   ],
   "source": [
    "print(\"dog\" in \"dogma\")\n",
    "\n",
    "string3 = \"This is getting replaced\"\n",
    "\n",
    "# Replace function\n",
    "\n",
    "if(\"replaced\" in string3):\n",
    "    string4 = string3.replace(\"replaced\", \"something new\")\n",
    "\n",
    "print(string4)\n"
   ]
  }
 ],
 "metadata": {
  "kernelspec": {
   "display_name": "Python 3",
   "language": "python",
   "name": "python3"
  },
  "language_info": {
   "codemirror_mode": {
    "name": "ipython",
    "version": 3
   },
   "file_extension": ".py",
   "mimetype": "text/x-python",
   "name": "python",
   "nbconvert_exporter": "python",
   "pygments_lexer": "ipython3",
   "version": "3.12.4"
  }
 },
 "nbformat": 4,
 "nbformat_minor": 2
}
