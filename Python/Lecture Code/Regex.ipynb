{
 "cells": [
  {
   "cell_type": "code",
   "execution_count": 2,
   "metadata": {},
   "outputs": [],
   "source": [
    "# Regular Expression (RegEx)\n",
    "\n",
    "# Powerful text pattern recognition\n",
    "# Tricky to use\n",
    "# Use it to find patterns within strings\n",
    "\n",
    "import re\n",
    "\n"
   ]
  },
  {
   "cell_type": "code",
   "execution_count": 32,
   "metadata": {},
   "outputs": [
    {
     "name": "stdout",
     "output_type": "stream",
     "text": [
      "None\n",
      "None\n",
      "<re.Match object; span=(0, 49), match='Welcome to Skillstorm! Everybody is welcome here.>\n",
      "<re.Match object; span=(0, 49), match='Welcome to Skillstorm! Everybody is welcome here.>\n"
     ]
    }
   ],
   "source": [
    "# re methods\n",
    "# re.findall() -returns list of match objects\n",
    "# re.search() -returns the first match\n",
    "# re.split() -returns a list where the string has been split at the match\n",
    "# re.sub() -replaces any number of matches within string\n",
    "\n",
    "string = \"Welcome to Skillstorm! Everybody is welcome here.\"\n",
    "match = re.search(\"^Welcome.*storm!$\", string)\n",
    "print(match)\n",
    "\n",
    "string = \"Welcome to Skillstorm! Everybody is welcome here.\"\n",
    "match = re.search(\"^[Ww]elcome.*storm!$\", string)\n",
    "match2 = re.search(\".*\", string)\n",
    "match3 = re.search(r\"^\\w+\\sto.[^0-9]\\D.*[.!?]$\", string)\n",
    "print(match)\n",
    "print(match2)\n",
    "print(match3)"
   ]
  },
  {
   "cell_type": "code",
   "execution_count": 35,
   "metadata": {},
   "outputs": [
    {
     "name": "stdout",
     "output_type": "stream",
     "text": [
      "\u0007\n",
      "\\a\n",
      "['Welcome', 'to', 'Skillstorm', 'Everybody', 'is', 'welcome', 'here']\n",
      "['Welcome ', ' Skillstorm! Everybody ', ' welcome here.']\n"
     ]
    }
   ],
   "source": [
    "# Regex Operators\n",
    "# \\ is an escape character\n",
    "# We can use a raw string r\"string\"\n",
    "\n",
    "print(\"\\a\")\n",
    "print(r\"\\a\")\n",
    "\n",
    "# \\A or ^ - match the beginning of the string\n",
    "# \\b - match characters at beginning or end of word\n",
    "# \\B - match chars NOT at the beginning or end of word\n",
    "# \\d - match a digit 0-9\n",
    "# \\D - match NOT a digit\n",
    "# \\s - match a whitespace char\n",
    "# \\S - match NOT a whitespace char\n",
    "# \\w - match a-z, A-Z, 0-9, _\n",
    "# \\W - match any non-word char\n",
    "# \\Z or $ = match at end of the string\n",
    "\n",
    "# Meta Characters\n",
    "# [] - A set of chars\n",
    "# . - any one char\n",
    "# ^ - when used in [] it becomes NOT\n",
    "# $ = ends with\n",
    "# * - zero or more of\n",
    "# + - One or more of\n",
    "# ? - zero or one of\n",
    "# {n} - n occurances of\n",
    "# | - either or\n",
    "# () - capture and group\n",
    "\n",
    "\n",
    "word_list = re.findall(r\"\\w+\", string)\n",
    "print(word_list)\n",
    "\n",
    "# Split is exclusive and cuts out the searched term\n",
    "# example cuts out all 2 letter words\n",
    "split_list = re.split(r\"\\b[a-zA-Z]{2}\\b\", string)\n",
    "print(split_list)\n",
    "\n"
   ]
  },
  {
   "cell_type": "code",
   "execution_count": 36,
   "metadata": {},
   "outputs": [
    {
     "name": "stdout",
     "output_type": "stream",
     "text": [
      "Welcome at Skillstorm! Everybody at welcome here.\n"
     ]
    }
   ],
   "source": [
    "new_string = re.sub(r\"\\b[a-zA-Z]{2}\\b\", \"at\", string)\n",
    "print(new_string)"
   ]
  }
 ],
 "metadata": {
  "kernelspec": {
   "display_name": "Python 3",
   "language": "python",
   "name": "python3"
  },
  "language_info": {
   "codemirror_mode": {
    "name": "ipython",
    "version": 3
   },
   "file_extension": ".py",
   "mimetype": "text/x-python",
   "name": "python",
   "nbconvert_exporter": "python",
   "pygments_lexer": "ipython3",
   "version": "3.12.4"
  }
 },
 "nbformat": 4,
 "nbformat_minor": 2
}
