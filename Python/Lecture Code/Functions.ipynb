{
 "cells": [
  {
   "cell_type": "code",
   "execution_count": 5,
   "metadata": {},
   "outputs": [],
   "source": [
    "# Functions\n",
    "# Procedure that is repeatable\n",
    "# Takes inputs and can produce an output\n",
    "# Cannot force types on inputs\n",
    "# Can add type hints to show expected types (basically comments inside function call)\n",
    "# Hints -- function_name(variable: type) -> return_type\n",
    "\n",
    "def calculate_area(length: int = 5, width: int = 6) -> int:\n",
    "    return length * width"
   ]
  },
  {
   "cell_type": "code",
   "execution_count": 7,
   "metadata": {},
   "outputs": [
    {
     "name": "stdout",
     "output_type": "stream",
     "text": [
      "30\n",
      "30\n",
      "30\n"
     ]
    }
   ],
   "source": [
    "print(calculate_area(5,6))\n",
    "\n",
    "print(calculate_area(width=6, length=5))\n",
    "\n",
    "print(calculate_area())"
   ]
  },
  {
   "cell_type": "code",
   "execution_count": 8,
   "metadata": {},
   "outputs": [],
   "source": [
    "# Method Overriding - Override a parent's method\n",
    "\n",
    "class Shape:\n",
    "    def area(length, width):\n",
    "        return length * width\n",
    "    \n",
    "class Triangle(Shape):\n",
    "    def area(length, width, height):\n",
    "        return 0.5*height*length*width\n"
   ]
  },
  {
   "cell_type": "code",
   "execution_count": 12,
   "metadata": {},
   "outputs": [
    {
     "name": "stdout",
     "output_type": "stream",
     "text": [
      "2\n",
      "6\n"
     ]
    }
   ],
   "source": [
    "# Method Overloading - two of the same methods with different arguments\n",
    "\n",
    "def method_1(x,y):\n",
    "    return x+y\n",
    "\n",
    "# Python overwrites the function instead of considering them as different\n",
    "def method_1(x,y,z):\n",
    "    return x+y+z\n",
    "\n",
    "# print(method_1(1,2))\n",
    "\n",
    "# Can be done sortof with creative coding\n",
    "def method_1(x,y,z=None):\n",
    "    if(z):\n",
    "        return x*y*z\n",
    "    return x*y\n",
    "\n",
    "print(method_1(1,2))\n",
    "print(method_1(1,2,3))"
   ]
  },
  {
   "cell_type": "code",
   "execution_count": 15,
   "metadata": {},
   "outputs": [
    {
     "name": "stdout",
     "output_type": "stream",
     "text": [
      "('fruit', 'cabbage', 'soda', 'shampoo')\n",
      "We still have to pick up 4 items from the store.\n"
     ]
    }
   ],
   "source": [
    "# If we don't know how many arguments will be passed in we use *args\n",
    "\n",
    "def shopping_list(*items):\n",
    "    print(items)\n",
    "    print(f\"We still have to pick up {len(items)} items from the store.\")\n",
    "\n",
    "shopping_list(\"fruit\", \"cabbage\", \"soda\", \"shampoo\")"
   ]
  },
  {
   "cell_type": "code",
   "execution_count": 17,
   "metadata": {},
   "outputs": [
    {
     "name": "stdout",
     "output_type": "stream",
     "text": [
      "{'food': 'fruit', 'veggie': 'cabbage', 'drink': 'soda', 'personal': 'shampoo'}\n",
      "We still have to pick up 4 items from the store.\n"
     ]
    }
   ],
   "source": [
    "# We also have **Kwargs\n",
    "\n",
    "def shopping_list(**items):\n",
    "    print(items)\n",
    "    print(f\"We still have to pick up {len(items)} items from the store.\")\n",
    "\n",
    "shopping_list(food = \"fruit\", veggie = \"cabbage\", drink = \"soda\", personal = \"shampoo\")"
   ]
  },
  {
   "cell_type": "code",
   "execution_count": 20,
   "metadata": {},
   "outputs": [
    {
     "name": "stdout",
     "output_type": "stream",
     "text": [
      "[0, 1, 1, 2, 3, 5, 8, 13, 21, 34]\n"
     ]
    }
   ],
   "source": [
    "# Recursive Functions\n",
    "# requires stop case (end condition), must assume stop case will stop function\n",
    "# must always be moving towards stop case\n",
    "\n",
    "def fibonacci(n):\n",
    "    if(n <= 1): # stop case\n",
    "        return n\n",
    "    return fibonacci(n-1) + fibonacci(n-2) # subtraction moves us closer to 1\n",
    "\n",
    "print([fibonacci(n) for n in range(10)])\n",
    "\n"
   ]
  },
  {
   "cell_type": "code",
   "execution_count": 24,
   "metadata": {},
   "outputs": [
    {
     "name": "stdout",
     "output_type": "stream",
     "text": [
      "[2, 4, 6, 8]\n",
      "[1, 4, 9, 16, 25, 36, 49, 64, 81]\n"
     ]
    },
    {
     "data": {
      "text/plain": [
       "<function __main__.<lambda>(x, y, z)>"
      ]
     },
     "execution_count": 24,
     "metadata": {},
     "output_type": "execute_result"
    }
   ],
   "source": [
    "# lambda function\n",
    "# Anonymous function - doesn't have a name and is declared and executed inline\n",
    "\n",
    "def evens(x): # x in function = x: in lambda\n",
    "    return x%2==0 # return statement = (x%2==0) in lambda\n",
    "\n",
    "\n",
    "# in example -- \"lambda x: (x%2==0)\" is the lambda\n",
    "# -- \"x:\" is the function argument\n",
    "# -- \"(x%2==0)\" is the thing the function is meant to do\n",
    "numbers = [1,2,3,4,5,6,7,8,9]\n",
    "even_numbers = list(filter(lambda x: (x%2==0), numbers))\n",
    "print(even_numbers)\n",
    "\n",
    "squares = list(map(lambda x: x**2, numbers))\n",
    "print(squares)\n",
    "\n",
    "# lambda with multiple arguments\n",
    "lambda x,y,z: (x*y+z)\n"
   ]
  },
  {
   "cell_type": "code",
   "execution_count": null,
   "metadata": {},
   "outputs": [],
   "source": []
  }
 ],
 "metadata": {
  "kernelspec": {
   "display_name": "Python 3",
   "language": "python",
   "name": "python3"
  },
  "language_info": {
   "codemirror_mode": {
    "name": "ipython",
    "version": 3
   },
   "file_extension": ".py",
   "mimetype": "text/x-python",
   "name": "python",
   "nbconvert_exporter": "python",
   "pygments_lexer": "ipython3",
   "version": "3.12.4"
  }
 },
 "nbformat": 4,
 "nbformat_minor": 2
}
