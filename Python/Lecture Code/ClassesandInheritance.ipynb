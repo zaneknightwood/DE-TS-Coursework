{
 "cells": [
  {
   "cell_type": "code",
   "execution_count": 62,
   "metadata": {},
   "outputs": [],
   "source": [
    "# Everything in python is an object (all classes inherit from Object)\n",
    "# Object class already has all the dunder methods, creating them overrides the methods\n",
    "\n",
    "class Person:\n",
    "    # class level variable (belongs to the class, not specific instance of class)\n",
    "    population = 0\n",
    "    __ssn = '123-456-7890'\n",
    "    def __init__(self, name, age, **kwargs):\n",
    "        # instance level variable (belongs to specific instance of class)\n",
    "        self.name = name\n",
    "        self.age = age\n",
    "        Person.population += 1 # class level variable is changed when instance of class created\n",
    "\n",
    "    # Delete method\n",
    "    def __del__(self):\n",
    "        del self\n",
    "        Person.population -= 1\n",
    "    \n",
    "    # Returns String representaion of object when print\n",
    "    def __str__(self):\n",
    "        return f\"{self.name} ({self.age})\"\n",
    "\n",
    "    # Returns String representaion of object when returning\n",
    "    def __repr__(self) -> str:\n",
    "        return f\"{self.name} is {self.age}\"\n",
    "    \n",
    "    # Redefines == function\n",
    "    # Typically == function between objects checks memory location\n",
    "    def __eq__(self, other):\n",
    "            if(self.name == other.name) and (self.age == other.age):\n",
    "                return True\n",
    "            else:\n",
    "                return False\n",
    "    \n",
    "    def getAge(self):\n",
    "        return self.age\n",
    "    \n",
    "    def getSSN(self):\n",
    "        return self._ssn\n",
    "\n",
    "    # class needs to be defined, but object doesn't need to be created\n",
    "    # cls works like self, doesn't need to be passed in\n",
    "    # only able to access class variables (ie, can't access instance variable age)\n",
    "    @classmethod\n",
    "    def get_population(cls):\n",
    "        return cls.population\n",
    "\n",
    "    # don't need class or instance\n",
    "    # can't call class variables\n",
    "    # doesn't have access to class stuff\n",
    "    @staticmethod\n",
    "    def isAdult(x):\n",
    "        return x >= 18\n",
    "\n",
    "\n",
    "    \n",
    "\n"
   ]
  },
  {
   "cell_type": "code",
   "execution_count": 63,
   "metadata": {},
   "outputs": [
    {
     "name": "stdout",
     "output_type": "stream",
     "text": [
      "0\n"
     ]
    }
   ],
   "source": [
    "print(Person.get_population())"
   ]
  },
  {
   "cell_type": "code",
   "execution_count": 64,
   "metadata": {},
   "outputs": [
    {
     "data": {
      "text/plain": [
       "True"
      ]
     },
     "execution_count": 64,
     "metadata": {},
     "output_type": "execute_result"
    }
   ],
   "source": [
    "Person.isAdult(20)"
   ]
  },
  {
   "cell_type": "code",
   "execution_count": 65,
   "metadata": {},
   "outputs": [
    {
     "name": "stdout",
     "output_type": "stream",
     "text": [
      "0\n"
     ]
    }
   ],
   "source": [
    "john = Person('John', 23)\n",
    "john.getAge()\n",
    "print(Person.get_population())"
   ]
  },
  {
   "cell_type": "code",
   "execution_count": 66,
   "metadata": {},
   "outputs": [
    {
     "name": "stdout",
     "output_type": "stream",
     "text": [
      "-1\n"
     ]
    }
   ],
   "source": [
    "# delete method\n",
    "del john\n",
    "print(Person.get_population())"
   ]
  },
  {
   "cell_type": "code",
   "execution_count": 67,
   "metadata": {},
   "outputs": [],
   "source": [
    "john = Person('John', 20)\n",
    "john2 = Person('John', 20)"
   ]
  },
  {
   "cell_type": "code",
   "execution_count": 68,
   "metadata": {},
   "outputs": [
    {
     "data": {
      "text/plain": [
       "1"
      ]
     },
     "execution_count": 68,
     "metadata": {},
     "output_type": "execute_result"
    }
   ],
   "source": [
    "Person.get_population()"
   ]
  },
  {
   "cell_type": "code",
   "execution_count": 69,
   "metadata": {},
   "outputs": [
    {
     "name": "stdout",
     "output_type": "stream",
     "text": [
      "John (20)\n"
     ]
    }
   ],
   "source": [
    "print(john2)"
   ]
  },
  {
   "cell_type": "code",
   "execution_count": 70,
   "metadata": {},
   "outputs": [
    {
     "data": {
      "text/plain": [
       "John is 20"
      ]
     },
     "execution_count": 70,
     "metadata": {},
     "output_type": "execute_result"
    }
   ],
   "source": [
    "john2"
   ]
  },
  {
   "cell_type": "code",
   "execution_count": 71,
   "metadata": {},
   "outputs": [
    {
     "name": "stdout",
     "output_type": "stream",
     "text": [
      "True\n"
     ]
    }
   ],
   "source": [
    "print(john == john2)"
   ]
  },
  {
   "cell_type": "code",
   "execution_count": 72,
   "metadata": {},
   "outputs": [],
   "source": [
    "# Encapsulation\n",
    "# underscores only denotes to the programmer that a variable is protected\n",
    "# single underscore can be accessed like any other variable\n",
    "# python doesn't recognize doule underscore as a thing\n",
    "# double underscore must be accessed via objectname._Classname__variablename\n",
    "\n",
    "class Circle:\n",
    "    _pi = 3.14 # Simulates protected\n",
    "    __pi = 3.14 # Simulates private\n"
   ]
  },
  {
   "cell_type": "code",
   "execution_count": 73,
   "metadata": {},
   "outputs": [
    {
     "name": "stdout",
     "output_type": "stream",
     "text": [
      "3.14\n"
     ]
    }
   ],
   "source": [
    "print(Circle._pi)"
   ]
  },
  {
   "cell_type": "code",
   "execution_count": 74,
   "metadata": {},
   "outputs": [
    {
     "data": {
      "text/plain": [
       "3.14"
      ]
     },
     "execution_count": 74,
     "metadata": {},
     "output_type": "execute_result"
    }
   ],
   "source": [
    "# access private\n",
    "circle1 = Circle()\n",
    "circle1._Circle__pi"
   ]
  },
  {
   "cell_type": "code",
   "execution_count": null,
   "metadata": {},
   "outputs": [],
   "source": []
  }
 ],
 "metadata": {
  "kernelspec": {
   "display_name": ".venv",
   "language": "python",
   "name": "python3"
  },
  "language_info": {
   "codemirror_mode": {
    "name": "ipython",
    "version": 3
   },
   "file_extension": ".py",
   "mimetype": "text/x-python",
   "name": "python",
   "nbconvert_exporter": "python",
   "pygments_lexer": "ipython3",
   "version": "3.12.4"
  }
 },
 "nbformat": 4,
 "nbformat_minor": 2
}
