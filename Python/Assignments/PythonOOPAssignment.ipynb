{
 "cells": [
  {
   "cell_type": "code",
   "execution_count": 6,
   "metadata": {},
   "outputs": [
    {
     "name": "stdout",
     "output_type": "stream",
     "text": [
      "Microsoft: Surface SN:(203875435834)\n"
     ]
    }
   ],
   "source": [
    "# Basic Computer Components\n",
    "\n",
    "class ComputerComponent:\n",
    "    def __init__(self, manuf, model, serial_num) -> None:\n",
    "        self.manuf = manuf\n",
    "        self.model = model\n",
    "        self.serial_num = serial_num\n",
    "\n",
    "    def disp_info(self) -> str:\n",
    "        return f\"{self.manuf}:{self.model} SN:({self.serial_num})\"\n",
    "\n",
    "comp = ComputerComponent('Microsoft', 'Surface', 203875435834)\n",
    "print(comp.disp_info())\n",
    "\n"
   ]
  },
  {
   "cell_type": "code",
   "execution_count": 2,
   "metadata": {},
   "outputs": [],
   "source": [
    "# Specific Component Classes\n",
    "\n",
    "class CPU(ComputerComponent):\n",
    "    def __init__(self, manuf, model, serial_num, cores, clock_speed, integrated) -> None:\n",
    "        super().__init__(manuf, model, serial_num)\n",
    "        self.cores = cores\n",
    "        self.clock_speed = clock_speed\n",
    "        self.integrated = integrated\n",
    "    \n",
    "    def comp_info(self) -> str:\n",
    "        info = super().comp_info()\n",
    "        info = info + f\"\\n Cores:{self.cores} CS={self.clock_speed} Int:{self.integrated}\"\n",
    "        return info\n",
    "\n",
    "\n",
    "class Memory(ComputerComponent):\n",
    "    def __init__(self, manuf, model, serial_num, capacity, speed) -> None:\n",
    "        super().__init__(manuf, model, serial_num)\n",
    "        self.capacity = capacity\n",
    "        self.speed = speed\n",
    "\n",
    "    def comp_info(self) -> str:\n",
    "        info = super().comp_info()\n",
    "        info = info + f\"\\n Capacity:{self.capacity} Speed={self.speed}\"\n",
    "        return info\n",
    "\n",
    "class Storage(ComputerComponent):\n",
    "    def __init__(self, manuf, model, serial_num, storage_type, size, transfer_rate) -> None:\n",
    "        super().__init__(manuf, model, serial_num)\n",
    "        self.storage_type = storage_type\n",
    "        self.size = size\n",
    "        self.tranfser_rate = transfer_rate\n",
    "\n",
    "    def comp_info(self) -> str:\n",
    "        info = super().comp_info()\n",
    "        info = info + f\"\\n Type:{self.storage_type} Size={self.size}, TR:{self.tranfser_rate}\"\n",
    "        return info"
   ]
  },
  {
   "cell_type": "code",
   "execution_count": 7,
   "metadata": {},
   "outputs": [],
   "source": [
    "# Computer Class\n",
    "\n",
    "class Computer:\n",
    "    def __init__(self, cpu, memory, storage) -> None:\n",
    "        self.cpu = cpu\n",
    "        self.memory = memory\n",
    "        self.storage = storage\n",
    "\n",
    "    def display_info(self):\n",
    "        print(f\"Computer info:\")\n",
    "        print(f\"CPU ({self.cpu.disp_info()})\")\n",
    "        print(f\"Memory ({self.memory.disp_info()})\")\n",
    "        print(f\"Storage ({self.storage.disp_info()})\")\n",
    "\n"
   ]
  },
  {
   "cell_type": "code",
   "execution_count": 8,
   "metadata": {},
   "outputs": [],
   "source": [
    "# Advanced Features\n",
    "\n",
    "class Computer:\n",
    "    def __init__(self, cpu: CPU, memory: Memory, storage: Storage) -> None:\n",
    "        if type(cpu) == CPU:\n",
    "            self.cpu = cpu\n",
    "        else: return \"CPU component must be of type: CPU\"\n",
    "        if type(memory) == Memory:\n",
    "            self.memory = memory\n",
    "        else: return \"Memory component must be of type: Memory\"\n",
    "        if type(storage) == Storage:\n",
    "            self.storage = storage\n",
    "        else: return \"Storage component must be of type: Storage\"\n",
    "\n",
    "    def display_info(self):\n",
    "        print(f\"Computer info:\")\n",
    "        print(f\"CPU ({self.cpu.disp_info()})\")\n",
    "        print(f\"Memory ({self.memory.disp_info()})\")\n",
    "        print(f\"Storage ({self.storage.disp_info()})\")\n",
    "    \n",
    "    def replace_component(self, component):\n",
    "        if type(component) == CPU:\n",
    "            self.cpu = component\n",
    "        elif type(component) == Memory:\n",
    "            self.memory = component\n",
    "        elif type(component) == Storage:\n",
    "            self.storage = component\n",
    "        else:\n",
    "            return \"Component must be of type CPU, Memory, or Storage\""
   ]
  }
 ],
 "metadata": {
  "kernelspec": {
   "display_name": ".venv",
   "language": "python",
   "name": "python3"
  },
  "language_info": {
   "codemirror_mode": {
    "name": "ipython",
    "version": 3
   },
   "file_extension": ".py",
   "mimetype": "text/x-python",
   "name": "python",
   "nbconvert_exporter": "python",
   "pygments_lexer": "ipython3",
   "version": "3.12.4"
  }
 },
 "nbformat": 4,
 "nbformat_minor": 2
}
