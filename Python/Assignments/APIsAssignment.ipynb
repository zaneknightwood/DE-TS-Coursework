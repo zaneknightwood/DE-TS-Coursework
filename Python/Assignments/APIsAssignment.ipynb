{
 "cells": [
  {
   "cell_type": "code",
   "execution_count": null,
   "metadata": {},
   "outputs": [],
   "source": [
    "import requests, os\n",
    "\n",
    "\n",
    "# Connect to free API\n",
    "axolotl_url = \"https://theaxolotlapi.netlify.app/\"\n",
    "\n",
    "response = requests.get(axolotl_url)\n",
    "response"
   ]
  },
  {
   "cell_type": "code",
   "execution_count": null,
   "metadata": {},
   "outputs": [],
   "source": [
    "# No Auth\n",
    "\n",
    "base_url = \"https://dog.ceo\"\n",
    "dogs_api = \"/api/breeds\"\n",
    "endpoint = \"/image/random\"\n",
    "random_dogs = base_url + dogs_api + endpoint\n",
    "\n",
    "response = requests.get(random_dogs)\n",
    "response.json()"
   ]
  },
  {
   "cell_type": "code",
   "execution_count": null,
   "metadata": {},
   "outputs": [],
   "source": [
    "# API Key\n",
    "\n",
    "base_url = \"https://api.thecatapi.com/v1/images/search?limit=10&breed_ids=beng&api_key=\"\n",
    "api_key = \"live_DRYnWNVL7spmBFzfVItCrpwdKKwIq7NPiHLr2hr8diMk5lZx9On3cbB989KQ6FiZ\"\n",
    "\n",
    "get_bengal_cats = base_url + api_key\n",
    "\n",
    "response = requests.get(get_bengal_cats)\n",
    "response.json()"
   ]
  },
  {
   "cell_type": "code",
   "execution_count": null,
   "metadata": {},
   "outputs": [],
   "source": [
    "# OAuth\n",
    "from requests_oauthlib import OAuth1\n",
    "\n",
    "base_url = \"https://api.thenounproject.com\"\n",
    "endpoint = \"/v2/icon/1\"\n",
    "\n",
    "noun_url = base_url + endpoint\n",
    "\n",
    "auth = OAuth1(\"16bcdbf4f6594c00b0c564138146f173\", \"62a21f1e76e240179a330592315e5be0\")\n",
    "\n",
    "response = requests.get(noun_url, auth=auth)\n",
    "print(response.content)"
   ]
  },
  {
   "cell_type": "code",
   "execution_count": null,
   "metadata": {},
   "outputs": [],
   "source": [
    "# API calls on a schedule\n",
    "\n",
    "# time method allows you to set up an infinite loop that runs a method every n number of seconds\n",
    "# this would allow you to write a script that runs requests.get() every n seconds infinately\n",
    "\n",
    "# the schedule library has methods for running a method on a defined interval\n",
    "# it can also be used to match system time and set up a time for a task to run\n"
   ]
  }
 ],
 "metadata": {
  "kernelspec": {
   "display_name": ".venv",
   "language": "python",
   "name": "python3"
  },
  "language_info": {
   "codemirror_mode": {
    "name": "ipython",
    "version": 3
   },
   "file_extension": ".py",
   "mimetype": "text/x-python",
   "name": "python",
   "nbconvert_exporter": "python",
   "pygments_lexer": "ipython3",
   "version": "3.12.4"
  }
 },
 "nbformat": 4,
 "nbformat_minor": 2
}
