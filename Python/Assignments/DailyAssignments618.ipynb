{
 "cells": [
  {
   "cell_type": "markdown",
   "metadata": {},
   "source": [
    "# Excercise 1: String Validator"
   ]
  },
  {
   "cell_type": "code",
   "execution_count": 6,
   "metadata": {},
   "outputs": [
    {
     "name": "stdout",
     "output_type": "stream",
     "text": [
      "adsljhe\n",
      "True\n",
      "True\n",
      "False\n",
      "True\n",
      "False\n"
     ]
    }
   ],
   "source": [
    "def string_validation(string: str):\n",
    "    is_True = False\n",
    "    for s in string:\n",
    "        if (s.isalnum()):\n",
    "            is_True = True\n",
    "            break\n",
    "    print(is_True)\n",
    "    \n",
    "    is_True = False\n",
    "    for s in string:\n",
    "        if (s.isalpha()):\n",
    "            is_True = True\n",
    "            break\n",
    "    print(is_True)\n",
    "\n",
    "    is_True = False\n",
    "    for s in string:\n",
    "        if (s.isnumeric()):\n",
    "            is_True = True\n",
    "            break\n",
    "    print(is_True)\n",
    "\n",
    "    is_True = False\n",
    "    for s in string:\n",
    "        if (s.islower()):\n",
    "            is_True = True\n",
    "            break\n",
    "    print(is_True)\n",
    "\n",
    "    is_True = False\n",
    "    for s in string:\n",
    "        if (s.isupper()):\n",
    "            is_True = True\n",
    "            break\n",
    "    print(is_True)\n",
    "\n",
    "user_input = input()\n",
    "print(user_input)\n",
    "string_validation(user_input)\n"
   ]
  },
  {
   "cell_type": "markdown",
   "metadata": {},
   "source": [
    "# Excercise 2: Regular Expressions"
   ]
  },
  {
   "cell_type": "code",
   "execution_count": 7,
   "metadata": {},
   "outputs": [
    {
     "name": "stdout",
     "output_type": "stream",
     "text": [
      "['Beginning']\n",
      "[' 1234', ' 11', ' 333', ' 444']\n",
      "['words!']\n",
      "['11', '333']\n",
      "['r']\n"
     ]
    }
   ],
   "source": [
    "import re\n",
    "\n",
    "string1 = \"Beginning 1234 11 333 444 parrot words!\"\n",
    "\n",
    "print(re.findall(r\"^\\w+\", string1))\n",
    "print(re.findall(r\"\\s\\d+\", string1))\n",
    "print(re.findall(r\"\\w+[.?!]$\", string1))\n",
    "print(re.findall(r\"\\b[123]+\\b\", string1))\n",
    "print(re.findall(r\"\\b.*([a-zA-Z])\\1.*\\b\", string1))\n"
   ]
  },
  {
   "cell_type": "markdown",
   "metadata": {},
   "source": [
    "# Excersize 3:Word Count"
   ]
  },
  {
   "cell_type": "code",
   "execution_count": 8,
   "metadata": {},
   "outputs": [
    {
     "name": "stdout",
     "output_type": "stream",
     "text": [
      "There are 125961 words in Pride and Prejudice\n"
     ]
    }
   ],
   "source": [
    "file_path = \"../Data/Pride_and_Prejudice.txt\"\n",
    "num_words = 0\n",
    "\n",
    "with open(file = file_path, mode = 'rt', encoding = \"utf-8\") as f:\n",
    "    f.seek(1991)\n",
    "    line = f.readline()\n",
    "    while line:\n",
    "        word_list = re.findall(r\"\\w+\", line)\n",
    "        num_words = num_words + len(word_list)\n",
    "        line = f.readline()\n",
    "\n",
    "print(f\"There are {num_words} words in Pride and Prejudice\")\n"
   ]
  },
  {
   "cell_type": "markdown",
   "metadata": {},
   "source": [
    "# Excercise 4: Word Score"
   ]
  },
  {
   "cell_type": "code",
   "execution_count": 10,
   "metadata": {},
   "outputs": [
    {
     "name": "stdout",
     "output_type": "stream",
     "text": [
      "The word score is: 5\n"
     ]
    }
   ],
   "source": [
    "def word_score(user_input):\n",
    "    score = 0\n",
    "    vowels = ['a','e','i','o','u','y']\n",
    "    words = user_input.split()\n",
    "    for word in words:\n",
    "        num_vowels = 0\n",
    "        for vowel in vowels:\n",
    "            if vowel in word:\n",
    "                num_vowels = num_vowels + word.count(vowel)\n",
    "        if num_vowels%2 == 0:\n",
    "            score +=1\n",
    "        else:\n",
    "            score +=2\n",
    "    return score\n",
    "\n",
    "user_input2 = input()\n",
    "print(f\"The word score is: {word_score(user_input2)}\")\n",
    "\n"
   ]
  }
 ],
 "metadata": {
  "kernelspec": {
   "display_name": "Python 3",
   "language": "python",
   "name": "python3"
  },
  "language_info": {
   "codemirror_mode": {
    "name": "ipython",
    "version": 3
   },
   "file_extension": ".py",
   "mimetype": "text/x-python",
   "name": "python",
   "nbconvert_exporter": "python",
   "pygments_lexer": "ipython3",
   "version": "3.12.4"
  }
 },
 "nbformat": 4,
 "nbformat_minor": 2
}
