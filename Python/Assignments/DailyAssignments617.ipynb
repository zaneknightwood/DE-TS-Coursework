{
 "cells": [
  {
   "cell_type": "code",
   "execution_count": 2,
   "metadata": {},
   "outputs": [
    {
     "name": "stdout",
     "output_type": "stream",
     "text": [
      "Today is 2024-06-17.\n",
      "There are 127 days until my birthday.\n"
     ]
    }
   ],
   "source": [
    "# Excercise 1\n",
    "\n",
    "import datetime\n",
    "\n",
    "time_now = datetime.datetime.now()\n",
    "formatted_time = time_now.strftime('%Y-%m-%d')\n",
    "\n",
    "birthday = datetime.datetime(2024, 10, 23)\n",
    "\n",
    "days_to_birthday = birthday - time_now\n",
    "days_to_birthday = days_to_birthday.days\n",
    "\n",
    "print(f\"Today is {formatted_time}.\")\n",
    "print(f\"There are {days_to_birthday} days until my birthday.\")"
   ]
  },
  {
   "cell_type": "code",
   "execution_count": 6,
   "metadata": {},
   "outputs": [
    {
     "name": "stdout",
     "output_type": "stream",
     "text": [
      "Bob {'science': '89', 'math': '90'}\n",
      "Frank {'science': '60', 'math': '78'}\n",
      "Joe {'science': '95', 'math': '68'}\n",
      "Alice {'science': '98', 'math': '89'}\n",
      "{'Bob', 'Alice', 'Frank', 'Joe'}\n"
     ]
    }
   ],
   "source": [
    "# Excercise 2\n",
    "\n",
    "student_dict = {\n",
    "    \"Bob\" : \"95\",\n",
    "    \"Frank\" : \"75\",\n",
    "    \"Joe\" : \"89\"\n",
    "}\n",
    "\n",
    "student_dict.update({\"Alice\" : \"90\"})\n",
    "\n",
    "student_dict.update({\"Bob\" : {\"science\" : \"89\", \"math\" : \"90\"}})\n",
    "student_dict.update({\"Frank\" : {\"science\" : \"60\", \"math\" : \"78\"}})\n",
    "student_dict.update({\"Joe\" : {\"science\" : \"95\", \"math\" : \"68\"}})\n",
    "student_dict.update({\"Alice\" : {\"science\" : \"98\", \"math\" : \"89\"}})\n",
    "\n",
    "for k,v in student_dict.items():\n",
    "    print(k,v)\n",
    "\n",
    "student_names = set()\n",
    "\n",
    "\n",
    "for k in student_dict.keys():\n",
    "    student_names.add(k)\n",
    "\n",
    "print(student_names)"
   ]
  },
  {
   "cell_type": "code",
   "execution_count": 20,
   "metadata": {},
   "outputs": [
    {
     "name": "stdout",
     "output_type": "stream",
     "text": [
      "This|is|my|string\n",
      "The letter 'i' appears 4 times in string 3\n"
     ]
    }
   ],
   "source": [
    "# Excercise 3\n",
    "\n",
    "str1 = \"This is my string\"\n",
    "str2 = \"\"\n",
    "\n",
    "str1 = str1.split()\n",
    "\n",
    "for elem in str1:\n",
    "    if str2 == \"\":\n",
    "        str2 = elem\n",
    "    else:\n",
    "        str2 = str2 + \"|\" + elem\n",
    "\n",
    "str3 = \"This is another string for counting\"\n",
    "count = 0\n",
    "\n",
    "for elem in str3:\n",
    "    if elem == \"i\":\n",
    "        count += 1\n",
    "\n",
    "print(str2)\n",
    "print(f\"The letter 'i' appears {count} times in string 3\")"
   ]
  },
  {
   "cell_type": "code",
   "execution_count": 24,
   "metadata": {},
   "outputs": [
    {
     "name": "stdout",
     "output_type": "stream",
     "text": [
      "[12, 4, 6, 29, 30, 7]\n",
      "[12, 4, 6, 29, 30, 7, 8]\n",
      "[12, 4, 6, 29, 30, 7]\n",
      "[4, 6, 7, 12, 29, 30]\n"
     ]
    }
   ],
   "source": [
    "# Excercise 4\n",
    "\n",
    "list1 = [12, 4, 6, 29, 30, 7]\n",
    "print(list1)\n",
    "\n",
    "list1.append(8)\n",
    "print(list1)\n",
    "\n",
    "list1.pop()\n",
    "print(list1)\n",
    "\n",
    "list1.sort()\n",
    "print(list1)"
   ]
  },
  {
   "cell_type": "code",
   "execution_count": 29,
   "metadata": {},
   "outputs": [
    {
     "name": "stdout",
     "output_type": "stream",
     "text": [
      "[1, 4, 9, 16, 25, 36, 49, 64, 81, 100]\n",
      "[4, 16, 36, 64, 100]\n",
      "1 1\n",
      "2 4\n",
      "3 9\n",
      "4 16\n",
      "5 25\n",
      "6 36\n",
      "7 49\n",
      "8 64\n",
      "9 81\n",
      "10 100\n"
     ]
    }
   ],
   "source": [
    "# Challenge 1\n",
    "\n",
    "list2 = [1, 2, 3, 4, 5, 6, 7, 8, 9, 10]\n",
    "\n",
    "list3 = [num**2 for num in list2]\n",
    "print(list3)\n",
    "\n",
    "list4 = [num for num in list3 if num%2 == 0]\n",
    "print(list4)\n",
    "\n",
    "dict1 = {k:v for (k,v) in zip(list2, list3)}\n",
    "\n",
    "for k,v in dict1.items():\n",
    "    print(k,v)"
   ]
  },
  {
   "cell_type": "code",
   "execution_count": 2,
   "metadata": {},
   "outputs": [
    {
     "name": "stdout",
     "output_type": "stream",
     "text": [
      "2008-06-21 00:00:00\n"
     ]
    }
   ],
   "source": [
    "# Challenge 2\n",
    "import datetime\n",
    "\n",
    "str_date = \"06-21-2008\"\n",
    "datetime_date = datetime.datetime.strptime(str_date, \"%m-%d-%Y\")\n",
    "print(datetime_date)\n",
    "\n",
    "date1 = input(\"Please input a date in mm-dd-yyyy format:\")\n",
    "date2 = input(\"Please input a second date in mm-dd-yyyy format:\")\n",
    "\n",
    "date1 = datetime.datetime.strptime(date1, \"%m-%d-%Y\")\n",
    "date2 = datetime.datetime.strptime(date2, \"%m-%d-%Y\")\n",
    "\n",
    "if date1 > date2:\n",
    "    num_days = date1 - date2\n",
    "else:\n",
    "    num_days = date2 - date1\n",
    "\n",
    "    \n",
    "\n",
    "\n"
   ]
  }
 ],
 "metadata": {
  "kernelspec": {
   "display_name": "Python 3",
   "language": "python",
   "name": "python3"
  },
  "language_info": {
   "codemirror_mode": {
    "name": "ipython",
    "version": 3
   },
   "file_extension": ".py",
   "mimetype": "text/x-python",
   "name": "python",
   "nbconvert_exporter": "python",
   "pygments_lexer": "ipython3",
   "version": "3.12.4"
  }
 },
 "nbformat": 4,
 "nbformat_minor": 2
}
