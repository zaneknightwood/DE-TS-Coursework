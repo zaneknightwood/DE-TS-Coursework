{
 "cells": [
  {
   "cell_type": "code",
   "execution_count": null,
   "metadata": {},
   "outputs": [],
   "source": [
    "import pandas as pd\n",
    "\n",
    "df = pd.read_csv(\"../Data/imdb_top_1000.csv\")\n",
    "\n",
    "# Ger rid of useless columns\n",
    "\n",
    "df.drop(columns=[\"Poster_Link\", \"Certificate\", \"Runtime\", \"Overview\", \"Meta_score\"], inplace=True)\n",
    "df.dropna(inplace=True)\n",
    "\n",
    "# Cleanup data\n",
    "df.drop([966, 1], inplace=True)\n",
    "df[\"Genre\"] = df[\"Genre\"].str.split(',')\n",
    "df[\"Gross\"] = df[\"Gross\"].str.replace(',', '')\n",
    "df[\"Gross\"] = df[\"Gross\"].astype(int)\n",
    "df.head()"
   ]
  },
  {
   "cell_type": "code",
   "execution_count": null,
   "metadata": {},
   "outputs": [],
   "source": [
    "# Oldest Movie\n",
    "\n",
    "title = df.loc[df[[\"Released_Year\"]].idxmin()]['Series_Title'].values[0]\n",
    "print(f'The oldest movie is \"{title}\".')"
   ]
  },
  {
   "cell_type": "code",
   "execution_count": null,
   "metadata": {},
   "outputs": [],
   "source": [
    "# Newest Movie\n",
    "\n",
    "newest_year = df[[\"Released_Year\"]].max()\n",
    "titles = df.loc[df[\"Released_Year\"].astype(int) == int(newest_year.iloc[0])]['Series_Title'].values.tolist()\n",
    "\n",
    "print(f\"The most recent release year is {int(newest_year.iloc[0])}\")\n",
    "print(f\"{len(titles)} entries were released in {int(newest_year.iloc[0])}. \\nThey are:\")\n",
    "for t in titles:\n",
    "    print(t)\n"
   ]
  },
  {
   "cell_type": "code",
   "execution_count": null,
   "metadata": {},
   "outputs": [],
   "source": [
    "# Top 10 movies by IMDB rating\n",
    "\n",
    "df.sort_values('IMDB_Rating', ascending=False, inplace=True)\n",
    "df.head(10)"
   ]
  },
  {
   "cell_type": "code",
   "execution_count": null,
   "metadata": {},
   "outputs": [],
   "source": [
    "# Top movie for each genre\n",
    "e_df = df.explode(\"Genre\")\n",
    "e_df = e_df[[\"Genre\", \"Series_Title\", \"No_of_Votes\", \"Gross\"]]\n",
    "# setup new df of genres\n",
    "genres = df[\"Genre\"]\n",
    "# flatten into list\n",
    "genres = [elem for elems in genres for elem in elems]\n",
    "# strip out spaces\n",
    "genres = [genre.strip(' ') for genre in genres]\n",
    "# convert to dict then back to list to remove duplicates\n",
    "genres = list(dict.fromkeys(genres))\n",
    "top_by_genre = []\n",
    "\n",
    "\n",
    "for genre in genres:\n",
    "    new_df = e_df[e_df[\"Genre\"].str.contains(genre)]\n",
    "    top_movie = new_df.loc[new_df[[\"No_of_Votes\"]].idxmax()]['Series_Title'].values[0]\n",
    "    top_by_genre.append([genre, top_movie])\n",
    "\n",
    "for movie in top_by_genre:\n",
    "    print(f\"The top movie in {movie[0]} is: {movie[1]}.\")"
   ]
  },
  {
   "cell_type": "code",
   "execution_count": null,
   "metadata": {},
   "outputs": [],
   "source": [
    "# Director with the most movies\n",
    "directors = df[\"Director\"].to_list()\n",
    "directors = list(dict.fromkeys(directors))\n",
    "num_rows = 0\n",
    "most_movies = 0\n",
    "most_director = ''\n",
    "\n",
    "for direct in directors:\n",
    "    new_df = df[df[\"Director\"].str.contains(direct)]\n",
    "    num_rows = len(new_df.index)\n",
    "    if num_rows >= most_movies:\n",
    "        most_movies = num_rows\n",
    "        most_director = direct\n",
    "print(f\"{most_director} has directed the most movies, a total of {most_movies}.\")"
   ]
  },
  {
   "cell_type": "code",
   "execution_count": null,
   "metadata": {},
   "outputs": [],
   "source": [
    "# Star with the most movies\n",
    "\n",
    "star_df = df[[\"Series_Title\", \"Star1\", \"Star2\", \"Star3\", \"Star4\"]]\n",
    "star_df[\"Stars\"] = star_df[[\"Star1\", \"Star2\", \"Star3\", \"Star4\"]].values.tolist()\n",
    "star_df.drop([\"Star1\", \"Star2\", \"Star3\", \"Star4\"], inplace=True, axis=1)\n",
    "star_df = star_df.explode(\"Stars\")\n",
    "stars = star_df[\"Stars\"]\n",
    "stars = list(dict.fromkeys(stars))\n",
    "num_rows = 0\n",
    "most_movies = 0\n",
    "most_star = ''\n",
    "\n",
    "for star in stars:\n",
    "    new_df = star_df[star_df[\"Stars\"].str.contains(star)]\n",
    "    num_rows = len(new_df.index)\n",
    "    if num_rows >= most_movies:\n",
    "        most_movies = num_rows\n",
    "        most_star = star\n",
    "print(f\"{most_star} has starred in the most movies, a total of {most_movies}.\")"
   ]
  },
  {
   "cell_type": "code",
   "execution_count": null,
   "metadata": {},
   "outputs": [],
   "source": [
    "# Highest grossing movie for each genre\n",
    "highest_by_genre = []\n",
    "top_movie = ''\n",
    "\n",
    "for genre in genres:\n",
    "    new_df = e_df[e_df[\"Genre\"].str.contains(genre)]\n",
    "    top_movie = new_df.loc[new_df[[\"Gross\"]].idxmax()]['Series_Title'].values[0]\n",
    "    highest_by_genre.append([genre, top_movie])\n",
    "\n",
    "for movie in highest_by_genre:\n",
    "    print(f\"The highest grossing movie in {movie[0]} is: {movie[1]}.\")\n"
   ]
  },
  {
   "cell_type": "code",
   "execution_count": null,
   "metadata": {},
   "outputs": [],
   "source": [
    "# Lowest grossing movie for each director\n",
    "\n",
    "lowest_by_genre = []\n",
    "top_movie = ''\n",
    "\n",
    "for genre in genres:\n",
    "    new_df = e_df[e_df[\"Genre\"].str.contains(genre)]\n",
    "    top_movie = new_df.loc[new_df[[\"Gross\"]].idxmin()]['Series_Title'].values[0]\n",
    "    lowest_by_genre.append([genre, top_movie])\n",
    "\n",
    "for movie in lowest_by_genre:\n",
    "    print(f\"The lowest grossing movie in {movie[0]} is: {movie[1]}.\")"
   ]
  },
  {
   "cell_type": "code",
   "execution_count": null,
   "metadata": {},
   "outputs": [],
   "source": [
    "# Save the dataframe as a parquet file\n",
    "\n",
    "df.to_parquet('../Data/dataframetoparquet.parquet.gzip', compression='gzip')\n",
    "\n"
   ]
  },
  {
   "cell_type": "code",
   "execution_count": null,
   "metadata": {},
   "outputs": [],
   "source": [
    "# Aggregate the gross revenue for all 1000 movies.\n",
    "df.agg({\"Gross\":['sum', 'mean', 'median', 'min', 'max']})"
   ]
  }
 ],
 "metadata": {
  "kernelspec": {
   "display_name": ".venv",
   "language": "python",
   "name": "python3"
  },
  "language_info": {
   "codemirror_mode": {
    "name": "ipython",
    "version": 3
   },
   "file_extension": ".py",
   "mimetype": "text/x-python",
   "name": "python",
   "nbconvert_exporter": "python",
   "pygments_lexer": "ipython3",
   "version": "3.12.4"
  }
 },
 "nbformat": 4,
 "nbformat_minor": 2
}
