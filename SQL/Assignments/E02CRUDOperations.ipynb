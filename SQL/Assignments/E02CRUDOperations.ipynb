{
 "cells": [
  {
   "cell_type": "markdown",
   "metadata": {
    "vscode": {
     "languageId": "sql"
    }
   },
   "source": [
    "# Exercises - Database Operations\n",
    "\n",
    "## Excercise 1 - Create Table"
   ]
  },
  {
   "cell_type": "code",
   "execution_count": null,
   "metadata": {
    "vscode": {
     "languageId": "sql"
    }
   },
   "outputs": [],
   "source": [
    "CREATE TABLE courses (\n",
    "\tcourse_id INT IDENTITY,\n",
    "\tcourse_name VARCHAR(60),\n",
    "\tcourse_author VARCHAR(40),\n",
    "\tcourse_status VARCHAR(10),\n",
    "\tcourse_published_dt DATE\n",
    ");\n",
    "ALTER TABLE courses\n",
    "ADD CONSTRAINT pk_courses_course_id PRIMARY KEY CLUSTERED (course_id);"
   ]
  },
  {
   "cell_type": "markdown",
   "metadata": {},
   "source": [
    "## Excercise 2 - Inserting Data"
   ]
  },
  {
   "cell_type": "code",
   "execution_count": null,
   "metadata": {
    "vscode": {
     "languageId": "sql"
    }
   },
   "outputs": [],
   "source": [
    "INSERT INTO courses\n",
    "    (course_name, course_author, course_status, course_published_dt)\n",
    "VALUES\n",
    "    ('Programming using Python', 'Bob Dillon', 'published', '2020-09-30'),\n",
    "\t('Data Engineering using Python', 'Bob Dillon', 'published', '2020-07-15');\n",
    "\n",
    "INSERT INTO courses (course_name, course_author, course_status)\n",
    "VALUES ('Data Engineering using Scala', 'Elvis Presley', 'draft');\n",
    "\n",
    "INSERT INTO courses (course_name, course_author, course_status, course_published_dt)\n",
    "VALUES\n",
    "\t('Programming using Scala', 'Elvis Presley', 'published', '2020-05-12'),\n",
    "\t('Programming using Java', 'Mike Jack', 'inactive', '2020-08-10'),\n",
    "\t('Web Applications - Python Flask', 'Bob Dillon', 'inactive', '2020-07-20');\n",
    "\n",
    "INSERT INTO courses (course_name, course_author, course_status)\n",
    "VALUES\n",
    "\t('Web Applications - Java Spring', 'Mike Jack', 'draft'),\n",
    "\t('Pipeline Orchestration - Python', 'Bob Dillon', 'draft');\n",
    "\n",
    "INSERT INTO courses (course_name, course_author, course_status, course_published_dt)\n",
    "VALUES\n",
    "\t('Streaming Pipelines - Python', 'Bob Dillon', 'published', '2020-10-05'),\n",
    "\t('Web Applications - Scala Play', 'Elvis Presley', 'inactive', '2020-09-30'),\n",
    "\t('Web Applications - Python Django', 'Bob Dillon', 'published', '2020-06-23'),\n",
    "\t('Server Automation - Ansible', 'Uncle Sam', 'published', '2020-07-05');"
   ]
  },
  {
   "cell_type": "markdown",
   "metadata": {},
   "source": [
    "## Excercise 3 - Updating Data"
   ]
  },
  {
   "cell_type": "code",
   "execution_count": null,
   "metadata": {
    "vscode": {
     "languageId": "sql"
    }
   },
   "outputs": [],
   "source": [
    "UPDATE courses\n",
    "SET course_status = 'published', course_published_dt = getdate()\n",
    "WHERE course_status = 'draft' AND (course_name LIKE '%Python%' OR course_name LIKE '%Scala%');"
   ]
  },
  {
   "cell_type": "markdown",
   "metadata": {},
   "source": [
    "## Exercise 4 - Deleting Data"
   ]
  },
  {
   "cell_type": "code",
   "execution_count": null,
   "metadata": {
    "vscode": {
     "languageId": "sql"
    }
   },
   "outputs": [],
   "source": [
    "DELETE FROM courses\n",
    "WHERE NOT course_status = 'published';\n",
    "\n",
    "-- Validation\n",
    "SELECT course_author, count(1) AS course_count\n",
    "FROM courses\n",
    "WHERE course_status = 'published'\n",
    "GROUP BY course_author"
   ]
  }
 ],
 "metadata": {
  "kernelspec": {
   "display_name": ".venv",
   "language": "python",
   "name": "python3"
  },
  "language_info": {
   "name": "python",
   "version": "3.12.4"
  }
 },
 "nbformat": 4,
 "nbformat_minor": 2
}
